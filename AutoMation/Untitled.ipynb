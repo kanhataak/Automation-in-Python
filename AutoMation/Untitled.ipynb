{
 "cells": [
  {
   "cell_type": "code",
   "execution_count": 1,
   "metadata": {},
   "outputs": [],
   "source": [
    "# !pip install selenium"
   ]
  },
  {
   "cell_type": "code",
   "execution_count": 2,
   "metadata": {},
   "outputs": [],
   "source": [
    "# from selenium import webdriver\n",
    "# import time\n"
   ]
  },
  {
   "cell_type": "code",
   "execution_count": 3,
   "metadata": {},
   "outputs": [],
   "source": [
    "# driver = webdriver.Chrome(r'D:\\\\chromedriver.exe')\n",
    "# driver.maximize_window()\n",
    "\n",
    "# driver.get('http://flipkart.com')\n",
    "\n",
    "# time.sleep(2)\n",
    "# searc=driver.find_element_by_xpath(\"/html/body/div[2]/div/div/button\").click()\n",
    "# # search=driver.find_element_by_name('q')\n",
    "# # search.send_keys(\"mi\")\n",
    "# search.submit()\n"
   ]
  },
  {
   "cell_type": "code",
   "execution_count": 6,
   "metadata": {},
   "outputs": [],
   "source": [
    "from selenium import webdriver\n",
    "import time\n",
    "import unittest # Python inbulit module unittest\n",
    "\n",
    "class Login_test(unittest.TestCase):\n",
    "    @classmethod\n",
    "    def setUpClass(cls):\n",
    "        cls.driver = driver = webdriver.Chrome(r\"D:\\\\chromedriver.exe\")\n",
    "        cls.driver = driver.implicitly_wait(10)\n",
    "        cls.driver = driver.maximize_window()\n",
    "\n",
    "    def test_login_valid(self):\n",
    "        self.driver = driver.get(\"https://www.linkedin.com/login?fromSignIn=true&trk=guest_homepage-basic_nav-header-signin\")\n",
    "        self.driver = driver.find_element_by_id(\"username\").send_keys(\"kanhataak97@gmail.com\")\n",
    "        \n",
    "        self.driver = driver.find_element_by_id(\"password\").send_keys(\"linked#97\")\n",
    "        self.driver = driver.find_element_by_xpath('//*[@id=\"app__container\"]/main/div/form/div[3]/button').click()\n",
    "        # self.driver = driver.find_element_by_id(\".....\").click()\n",
    "        time.sleep(2)\n",
    "\n",
    "    @classmethod\n",
    "    def tearDownClass(cls):\n",
    "        cls.driver.close()\n",
    "        cls.driver.quit()\n",
    "        print(\"test completed\")"
   ]
  },
  {
   "cell_type": "code",
   "execution_count": null,
   "metadata": {},
   "outputs": [],
   "source": []
  }
 ],
 "metadata": {
  "kernelspec": {
   "display_name": "Python 3",
   "language": "python",
   "name": "python3"
  },
  "language_info": {
   "codemirror_mode": {
    "name": "ipython",
    "version": 3
   },
   "file_extension": ".py",
   "mimetype": "text/x-python",
   "name": "python",
   "nbconvert_exporter": "python",
   "pygments_lexer": "ipython3",
   "version": "3.7.4"
  }
 },
 "nbformat": 4,
 "nbformat_minor": 2
}
